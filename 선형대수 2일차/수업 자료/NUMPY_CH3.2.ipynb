{
 "cells": [
  {
   "cell_type": "markdown",
   "id": "192255ef",
   "metadata": {},
   "source": [
    "### 마크다운 사용법\n",
    "\n",
    "<https://github.com/jinkyukim-me/markdown_ko>;\n",
    "\n",
    "<https://theorydb.github.io/envops/2019/05/22/envops-blog-how-to-use-md/>;"
   ]
  },
  {
   "cell_type": "markdown",
   "id": "2f99ce91",
   "metadata": {},
   "source": [
    "## 3.2 벡터의 정의\n",
    "### 벡터(vector)\n",
    "- 크기와 방향으로 양을 나타내는 방법\n",
    "- 2개 이상의 데이터를 벡터로 나타낼 수 있음\n",
    "\n",
    "### 스칼라(scalar)\n",
    "- 크기만을 사용하여 양을 나타내는 방법\n",
    "- 하나의 데이터만 스칼라로 나타낼 수 있음"
   ]
  },
  {
   "cell_type": "markdown",
   "id": "95b1be30",
   "metadata": {},
   "source": [
    "#### 예 2)"
   ]
  },
  {
   "cell_type": "markdown",
   "id": "4ffeaf3f",
   "metadata": {},
   "source": [
    "### 3.1.2 화살표 그리기\n",
    "#### quiver 함수 사용"
   ]
  },
  {
   "cell_type": "markdown",
   "id": "15448a26",
   "metadata": {},
   "source": [
    "### 3.1.3 다수의 서브플롯 사용하기\n",
    "- 2개의 서브플롯을 생성하여 각각 다른 그래프 그리기"
   ]
  },
  {
   "cell_type": "markdown",
   "id": "09b98555",
   "metadata": {},
   "source": [
    "### 3.1.4 3차원 공간에 화살표 그리기"
   ]
  },
  {
   "cell_type": "code",
   "execution_count": 1,
   "id": "f111ef68",
   "metadata": {},
   "outputs": [
    {
     "data": {
      "image/png": "[encoded data removed]",
      "text/plain": [
       "<Figure size 432x288 with 1 Axes>"
      ]
     },
     "metadata": {
      "needs_background": "light"
     },
     "output_type": "display_data"
    }
   ],
   "source": [
    "import numpy as np\n",
    "import matplotlib.pyplot as plt\n",
    "\n",
    "# 벡터 [4 3]^T\n",
    "a = np.array([4, 3])\n",
    "\n",
    "\n",
    "fig = plt.figure() \n",
    "ax = fig.add_subplot(1, 1, 1)\n",
    "\n",
    "# 벡터를 화살표로 나타냅니다.\n",
    "# 시작점은 원점, 끝점은 벡터 [4 3]^T 입니다. \n",
    "ax.quiver(0, 0, a[0], a[1], angles='xy', scale_units='xy', scale=1)\n",
    "ax.text(a[0], a[1], 'a', size=15)\n",
    "\n",
    "ax.set_xticks(range(0, 7))\n",
    "ax.set_yticks(range(0, 7))\n",
    "ax.grid()\n",
    "ax.set_axisbelow(True)\n",
    "ax.set_aspect('equal', adjustable='box')\n",
    "\n",
    "ax.spines['left'].set_position('zero')\n",
    "ax.spines['bottom'].set_position('zero')\n",
    "ax.spines['right'].set_color('none')\n",
    "ax.spines['top'].set_color('none')\n",
    "\n",
    "plt.show()"
   ]
  },
  {
   "cell_type": "code",
   "execution_count": 13,
   "id": "0b018626",
   "metadata": {},
   "outputs": [
    {
     "data": {
      "image/png": "[encoded data removed]",
      "text/plain": [
       "<Figure size 432x288 with 1 Axes>"
      ]
     },
     "metadata": {
      "needs_background": "light"
     },
     "output_type": "display_data"
    }
   ],
   "source": [
    "import numpy as np\n",
    "import matplotlib.pyplot as plt\n",
    "\n",
    "\n",
    "# 벡터 [ 4 3 ] ^T\n",
    "a = np.array([4, 3])\n",
    "\n",
    "\n",
    "fig = plt.figure()\n",
    "ax = fig.add_subplot(1, 1, 1)\n",
    "\n",
    "\n",
    "# 원점에서 시작하는 벡터 a를 그립니다.\n",
    "ax.quiver(0, 0, a[0], a[1], angles='xy', scale_units='xy', scale=1)\n",
    "\n",
    "# (0, -3)에서 시작하는 벡터 a를 그립니다.\n",
    "ax.quiver(0, -3, a[0], a[1], angles='xy', scale_units='xy', scale=1)\n",
    "\n",
    "# (1, 2)에서 시작하는 벡터 a를 그립니다.\n",
    "ax.quiver(1, 2, a[0], a[1], angles='xy', scale_units='xy', scale=1)\n",
    "\n",
    "# (-3, 1)에서 시작하는 벡터 a를 그립니다.\n",
    "ax.quiver(-3, 1, a[0], a[1], angles='xy', scale_units='xy', scale=1)\n",
    "\n",
    "start = -4\n",
    "end = 7\n",
    "\n",
    "ax.set_xticks(range(start, end))\n",
    "ax.set_yticks(range(start, end))\n",
    "ax.grid()\n",
    "ax.set_axisbelow(True)\n",
    "ax.set_aspect('equal', adjustable='box')\n",
    "\n",
    "\n",
    "ax.spines['left'].set_position('zero')\n",
    "ax.spines['bottom'].set_position('zero')\n",
    "ax.spines['right'].set_color('none')\n",
    "ax.spines['top'].set_color('none')\n",
    "\n",
    "plt.show()"
   ]
  },
  {
   "cell_type": "code",
   "execution_count": 2,
   "id": "5d966a5b",
   "metadata": {},
   "outputs": [
    {
     "data": {
      "image/png": "[encoded data removed]",
      "text/plain": [
       "<Figure size 432x288 with 1 Axes>"
      ]
     },
     "metadata": {
      "needs_background": "light"
     },
     "output_type": "display_data"
    }
   ],
   "source": [
    "import numpy as np\n",
    "import matplotlib.pyplot as plt\n",
    "\n",
    "i = np.array([1, 0])\n",
    "j = np.array([0, 1])\n",
    "\n",
    "a = 4*i + 3*j\n",
    "\n",
    "fig = plt.figure(figsize=(6,4)) \n",
    "ax = fig.add_subplot(1, 1, 1)\n",
    "\n",
    "# x축 이동\n",
    "ax.quiver(0, 0, a[0], 0, angles='xy', scale_units='xy', scale=1)\n",
    "ax.text(a[0]/2, 0.2, '4', size=15)\n",
    "\n",
    "# y축 이동\n",
    "ax.quiver(a[0], 0, 0, a[1], angles='xy', scale_units='xy', scale=1)\n",
    "ax.text(a[0]+0.2, a[1]/2, '3', size=15)\n",
    "\n",
    "ax.quiver(0, 0, a[0], a[1], angles='xy', scale_units='xy', scale=1)\n",
    "\n",
    "ax.set_xticks(range(0, 7))\n",
    "ax.set_yticks(range(0, 5))\n",
    "ax.grid()\n",
    "ax.set_axisbelow(True)\n",
    "ax.set_aspect('equal', adjustable='box')\n",
    "\n",
    "\n",
    "ax.spines['left'].set_position('zero')\n",
    "ax.spines['bottom'].set_position('zero')\n",
    "ax.spines['right'].set_color('none')\n",
    "ax.spines['top'].set_color('none')\n",
    "\n",
    "\n",
    "plt.show()"
   ]
  },
  {
   "cell_type": "code",
   "execution_count": 11,
   "id": "f4ff3626",
   "metadata": {},
   "outputs": [
    {
     "data": {
      "image/png": "[encoded data removed]",
      "text/plain": [
       "<Figure size 432x288 with 1 Axes>"
      ]
     },
     "metadata": {
      "needs_background": "light"
     },
     "output_type": "display_data"
    }
   ],
   "source": [
    "import numpy as np\n",
    "import matplotlib.pyplot as plt\n",
    "\n",
    "\n",
    "i = np.array([1, 0])\n",
    "j = np.array([0, 1])\n",
    "\n",
    "# 단위 벡터로 벡터 [ 4 3 ]^T를 나타낼 수 있습니다.\n",
    "a = 4*i + 3*j\n",
    "\n",
    "\n",
    "fig = plt.figure() \n",
    "ax = fig.add_subplot(1, 1, 1)\n",
    "\n",
    "\n",
    "ax.quiver(0, 0, a[0], a[1], angles='xy', scale_units='xy', scale=1)\n",
    "ax.text(a[0], a[1], '4i+3j', size=15)\n",
    "\n",
    "\n",
    "ax.set_xticks(range(0, 7))\n",
    "ax.set_yticks(range(0, 5))\n",
    "ax.grid()\n",
    "ax.set_axisbelow(True)\n",
    "ax.set_aspect('equal', adjustable='box')\n",
    "\n",
    "\n",
    "ax.spines['left'].set_position('zero')\n",
    "ax.spines['bottom'].set_position('zero')\n",
    "ax.spines['right'].set_color('none')\n",
    "ax.spines['top'].set_color('none')\n",
    "\n",
    "\n",
    "plt.show()"
   ]
  },
  {
   "cell_type": "code",
   "execution_count": null,
   "id": "1dd6a3eb",
   "metadata": {},
   "outputs": [],
   "source": []
  }
 ],
 "metadata": {
  "kernelspec": {
   "display_name": "Python 3",
   "language": "python",
   "name": "python3"
  },
  "language_info": {
   "codemirror_mode": {
    "name": "ipython",
    "version": 3
   },
   "file_extension": ".py",
   "mimetype": "text/x-python",
   "name": "python",
   "nbconvert_exporter": "python",
   "pygments_lexer": "ipython3",
   "version": "3.8.8"
  }
 },
 "nbformat": 4,
 "nbformat_minor": 5
}
