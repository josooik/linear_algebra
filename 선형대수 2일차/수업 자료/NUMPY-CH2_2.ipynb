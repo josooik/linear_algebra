{
 "cells": [
  {
   "cell_type": "code",
   "execution_count": 1,
   "id": "0ba1a2a7",
   "metadata": {},
   "outputs": [],
   "source": [
    "import numpy as np"
   ]
  },
  {
   "cell_type": "code",
   "execution_count": 4,
   "id": "44633b45",
   "metadata": {},
   "outputs": [
    {
     "name": "stdout",
     "output_type": "stream",
     "text": [
      "[[1 2]\n",
      " [3 4]]\n",
      "[[1 0]\n",
      " [0 1]]\n"
     ]
    }
   ],
   "source": [
    "A = np.array([[1,2],[3,4]])\n",
    "B = np.array([[1,0],[0,1]])\n",
    "print(A)\n",
    "print(B)"
   ]
  },
  {
   "cell_type": "markdown",
   "id": "4f9f074d",
   "metadata": {},
   "source": [
    "#### np.vstack()  \n",
    "행렬을 수직으로 결합(수직방향으로, vertical) "
   ]
  },
  {
   "cell_type": "code",
   "execution_count": 5,
   "id": "ec9ef0bd",
   "metadata": {},
   "outputs": [
    {
     "name": "stdout",
     "output_type": "stream",
     "text": [
      "[[1 2]\n",
      " [3 4]\n",
      " [1 0]\n",
      " [0 1]]\n"
     ]
    }
   ],
   "source": [
    "C = np.vstack((A,B))\n",
    "print(C)"
   ]
  },
  {
   "cell_type": "markdown",
   "id": "8218f728",
   "metadata": {},
   "source": [
    "#### np.hstack()  \n",
    "행렬을 수평으로 결합(수평방향으로, horizental) "
   ]
  },
  {
   "cell_type": "code",
   "execution_count": 6,
   "id": "92efe8f3",
   "metadata": {},
   "outputs": [
    {
     "name": "stdout",
     "output_type": "stream",
     "text": [
      "[[1 2 1 0]\n",
      " [3 4 0 1]]\n"
     ]
    }
   ],
   "source": [
    "D = np.hstack((A,B))\n",
    "print(D)"
   ]
  },
  {
   "cell_type": "markdown",
   "id": "b554a0b4",
   "metadata": {},
   "source": [
    "#### np.column_stack()  \n",
    "행렬을 열벡터 형태로 결합(column: 열(건물을 구성하는 기둥)) "
   ]
  },
  {
   "cell_type": "code",
   "execution_count": 11,
   "id": "707a5f4a",
   "metadata": {},
   "outputs": [],
   "source": [
    "a = np.array(list(range(1,4))) # [1, 2, 3]\n",
    "b = np.array(list(range(4,7))) # [4, 5, 6]\n",
    "c = np.array(list(range(7,10))) # [7, 8, 9]"
   ]
  },
  {
   "cell_type": "code",
   "execution_count": 12,
   "id": "75f27d68",
   "metadata": {},
   "outputs": [
    {
     "name": "stdout",
     "output_type": "stream",
     "text": [
      "[[1 4 7]\n",
      " [2 5 8]\n",
      " [3 6 9]]\n"
     ]
    }
   ],
   "source": [
    "E1 = np.column_stack((a,b,c))\n",
    "print(E2)"
   ]
  },
  {
   "cell_type": "markdown",
   "id": "ef40bc60",
   "metadata": {},
   "source": [
    "#### np.row_stack()  \n",
    "행렬을 행벡터 형태로 결합(row: 행) "
   ]
  },
  {
   "cell_type": "code",
   "execution_count": 13,
   "id": "0a37b7ed",
   "metadata": {},
   "outputs": [
    {
     "data": {
      "text/plain": [
       "array([[1, 2, 3],\n",
       "       [4, 5, 6],\n",
       "       [7, 8, 9]])"
      ]
     },
     "execution_count": 13,
     "metadata": {},
     "output_type": "execute_result"
    }
   ],
   "source": [
    "E2 = np.row_stack((a,b,c))\n",
    "E"
   ]
  },
  {
   "cell_type": "markdown",
   "id": "50e5295e",
   "metadata": {},
   "source": [
    "#### np.concatenate((합칠행렬1, 합칠행렬2), 방향(axis=))  \n",
    "- axis = 0 : 열방향, 세로로 합치기\n",
    "- axis = 1 : 행방향, 가로로 합치기"
   ]
  },
  {
   "cell_type": "code",
   "execution_count": 14,
   "id": "5eed02cd",
   "metadata": {},
   "outputs": [],
   "source": [
    "A = np.array([[1,2],[3,4]])\n",
    "B = np.array([[1,0],[0,1]])"
   ]
  },
  {
   "cell_type": "code",
   "execution_count": 17,
   "id": "55b874b0",
   "metadata": {},
   "outputs": [
    {
     "name": "stdout",
     "output_type": "stream",
     "text": [
      "[[1 2]\n",
      " [3 4]\n",
      " [1 0]\n",
      " [0 1]]\n"
     ]
    }
   ],
   "source": [
    "C = np.concatenate((A,B), axis=0) # 세로로 합치기, 열방향\n",
    "print(C)"
   ]
  },
  {
   "cell_type": "code",
   "execution_count": 18,
   "id": "9476ba3f",
   "metadata": {},
   "outputs": [
    {
     "name": "stdout",
     "output_type": "stream",
     "text": [
      "[[1 2 1 0]\n",
      " [3 4 0 1]]\n"
     ]
    }
   ],
   "source": [
    "D = np.concatenate((A,B), axis=1) # 가로로 합치기, 행방향\n",
    "print(D)"
   ]
  },
  {
   "cell_type": "markdown",
   "id": "573e4a8b",
   "metadata": {},
   "source": [
    "## 배열 분할 함수\n",
    "- 배열을 2개 이상의 배열로 나눌때 사용\n",
    "- 행방향 분할(가로방향) : hsplit\n",
    "- 열방향 분할(세로방향) : vsplit"
   ]
  },
  {
   "cell_type": "markdown",
   "id": "94c983bf",
   "metadata": {},
   "source": [
    "#### hsplit : 행렬을 가로방향으로 나눔\n",
    "- hsplit(분할할 행렬, 분할 개수)  \n",
    "- hsplit(분할할 행렬, (기준점1, 기준점2, ...)  )"
   ]
  },
  {
   "cell_type": "code",
   "execution_count": 21,
   "id": "9e62b94d",
   "metadata": {},
   "outputs": [
    {
     "data": {
      "text/plain": [
       "array([[ 1,  2,  3,  4,  5,  6],\n",
       "       [ 7,  8,  9, 10, 11, 12]])"
      ]
     },
     "execution_count": 21,
     "metadata": {},
     "output_type": "execute_result"
    }
   ],
   "source": [
    "A = np.arange(1,13).reshape(2,6)\n",
    "A"
   ]
  },
  {
   "cell_type": "code",
   "execution_count": 22,
   "id": "98a929b1",
   "metadata": {},
   "outputs": [],
   "source": [
    "a = np.hsplit(A,3) # A행렬을 동일한 크기의 3개의 행렬로 가로 방향으로 자름"
   ]
  },
  {
   "cell_type": "code",
   "execution_count": 27,
   "id": "8df8e5f0",
   "metadata": {},
   "outputs": [
    {
     "name": "stdout",
     "output_type": "stream",
     "text": [
      "[[1 2]\n",
      " [7 8]]\n",
      "\n",
      "[[ 3  4]\n",
      " [ 9 10]]\n",
      "\n",
      "[[ 5  6]\n",
      " [11 12]]\n",
      "\n"
     ]
    }
   ],
   "source": [
    "for i in a:\n",
    "    print(i)\n",
    "    print()"
   ]
  },
  {
   "cell_type": "code",
   "execution_count": 30,
   "id": "e46b55eb",
   "metadata": {},
   "outputs": [],
   "source": [
    "b = np.hsplit(A,(2,5))"
   ]
  },
  {
   "cell_type": "code",
   "execution_count": 31,
   "id": "195a3ec1",
   "metadata": {},
   "outputs": [
    {
     "name": "stdout",
     "output_type": "stream",
     "text": [
      "[[1 2]\n",
      " [7 8]]\n",
      "\n",
      "[[ 3  4  5]\n",
      " [ 9 10 11]]\n",
      "\n",
      "[[ 6]\n",
      " [12]]\n",
      "\n"
     ]
    }
   ],
   "source": [
    "for i in b:\n",
    "    print(i)\n",
    "    print()"
   ]
  },
  {
   "cell_type": "markdown",
   "id": "6ca82ef8",
   "metadata": {},
   "source": [
    "#### vsplit : 행렬을 세로방향으로 나눔\n",
    "- vsplit(분할할 행렬, 분할 개수)  \n",
    "- vsplit(분할할 행렬, (기준점1, 기준점2, ...)  )"
   ]
  },
  {
   "cell_type": "code",
   "execution_count": 35,
   "id": "3d54f5d5",
   "metadata": {},
   "outputs": [
    {
     "data": {
      "text/plain": [
       "array([[ 10,  20],\n",
       "       [ 30,  40],\n",
       "       [ 50,  60],\n",
       "       [ 70,  80],\n",
       "       [ 90, 100],\n",
       "       [110, 120]])"
      ]
     },
     "execution_count": 35,
     "metadata": {},
     "output_type": "execute_result"
    }
   ],
   "source": [
    "A = np.arange(10,130,10).reshape(6,2)\n",
    "A"
   ]
  },
  {
   "cell_type": "code",
   "execution_count": 36,
   "id": "c729842e",
   "metadata": {},
   "outputs": [],
   "source": [
    "a = np.vsplit(A,3)"
   ]
  },
  {
   "cell_type": "code",
   "execution_count": 37,
   "id": "8126c2b2",
   "metadata": {},
   "outputs": [
    {
     "name": "stdout",
     "output_type": "stream",
     "text": [
      "[[10 20]\n",
      " [30 40]]\n",
      "\n",
      "[[50 60]\n",
      " [70 80]]\n",
      "\n",
      "[[ 90 100]\n",
      " [110 120]]\n",
      "\n"
     ]
    }
   ],
   "source": [
    "for i in a:\n",
    "    print(i)\n",
    "    print()"
   ]
  },
  {
   "cell_type": "code",
   "execution_count": 38,
   "id": "627e04b0",
   "metadata": {},
   "outputs": [],
   "source": [
    "b = np.vsplit(A,(1,4))"
   ]
  },
  {
   "cell_type": "code",
   "execution_count": 39,
   "id": "2150fa3d",
   "metadata": {},
   "outputs": [
    {
     "name": "stdout",
     "output_type": "stream",
     "text": [
      "[[10 20]]\n",
      "\n",
      "[[30 40]\n",
      " [50 60]\n",
      " [70 80]]\n",
      "\n",
      "[[ 90 100]\n",
      " [110 120]]\n",
      "\n"
     ]
    }
   ],
   "source": [
    "for i in b:\n",
    "    print(i)\n",
    "    print()"
   ]
  },
  {
   "cell_type": "markdown",
   "id": "ffccc912",
   "metadata": {},
   "source": [
    "## 2.3 Indexing and Slicing\n",
    "### 2.3.1 인덱싱\n",
    "- 넘파이 배열은 파이썬의 리스트 처엄 인덱싱이 가능하며, for문을 사용하여 원소들을 하나씩 꺼내 올 수 있음"
   ]
  },
  {
   "cell_type": "code",
   "execution_count": 40,
   "id": "e9d538c7",
   "metadata": {},
   "outputs": [
    {
     "data": {
      "text/plain": [
       "array([ 0,  2,  4,  6,  8, 10, 12, 14])"
      ]
     },
     "execution_count": 40,
     "metadata": {},
     "output_type": "execute_result"
    }
   ],
   "source": [
    "A = np.arange(0,15,2)\n",
    "A"
   ]
  },
  {
   "cell_type": "code",
   "execution_count": 41,
   "id": "81b82600",
   "metadata": {},
   "outputs": [
    {
     "data": {
      "text/plain": [
       "(8,)"
      ]
     },
     "execution_count": 41,
     "metadata": {},
     "output_type": "execute_result"
    }
   ],
   "source": [
    "A.shape"
   ]
  },
  {
   "cell_type": "code",
   "execution_count": 47,
   "id": "613ccd49",
   "metadata": {},
   "outputs": [
    {
     "name": "stdout",
     "output_type": "stream",
     "text": [
      "A[0]: 0\n",
      "A[1]: 2\n",
      "A[2]: 4\n",
      "A[3]: 6\n",
      "A[4]: 8\n",
      "A[5]: 10\n",
      "A[6]: 12\n",
      "A[7]: 14\n"
     ]
    }
   ],
   "source": [
    "# for문을 사용하여 배열의 인덱스를 통해 원소에 접근 가능\n",
    "for i in range(len(A)):\n",
    "    print(f'A[{i}]: {A[i]}')"
   ]
  },
  {
   "cell_type": "code",
   "execution_count": 48,
   "id": "28caa011",
   "metadata": {},
   "outputs": [
    {
     "name": "stdout",
     "output_type": "stream",
     "text": [
      "A[-1]: 14\n",
      "A[-2]: 12\n",
      "A[-3]: 10\n",
      "A[-4]: 8\n",
      "A[-5]: 6\n",
      "A[-6]: 4\n",
      "A[-7]: 2\n",
      "A[-8]: 0\n"
     ]
    }
   ],
   "source": [
    "# for문을 사용하여 배열의 역인덱스를 통해 원소에 접근 가능\n",
    "for i in range(len(A)):\n",
    "    print(f'A[{-(i+1)}]: {A[-(i+1)]}')"
   ]
  },
  {
   "cell_type": "markdown",
   "id": "735d128e",
   "metadata": {},
   "source": [
    "#### 다차원 배열에 대한 접근\n",
    "- 차원의 개수만큼 인덱스를 사용하여 개별 원소에 접근 가능"
   ]
  },
  {
   "cell_type": "code",
   "execution_count": 49,
   "id": "4c319add",
   "metadata": {},
   "outputs": [
    {
     "data": {
      "text/plain": [
       "array([[ 1,  2,  3,  4],\n",
       "       [ 5,  6,  7,  8],\n",
       "       [ 9, 10, 11, 12]])"
      ]
     },
     "execution_count": 49,
     "metadata": {},
     "output_type": "execute_result"
    }
   ],
   "source": [
    "A = np.arange(1,13).reshape(3,4)\n",
    "A"
   ]
  },
  {
   "cell_type": "code",
   "execution_count": 56,
   "id": "b32162e7",
   "metadata": {},
   "outputs": [
    {
     "name": "stdout",
     "output_type": "stream",
     "text": [
      "3 4\n"
     ]
    }
   ],
   "source": [
    "height,width = A.shape\n",
    "print(height,width)"
   ]
  },
  {
   "cell_type": "code",
   "execution_count": 57,
   "id": "a43bb4c6",
   "metadata": {},
   "outputs": [
    {
     "name": "stdout",
     "output_type": "stream",
     "text": [
      "A[0,0]: 1\n",
      "A[0,1]: 2\n",
      "A[0,2]: 3\n",
      "A[0,3]: 4\n",
      "A[1,0]: 5\n",
      "A[1,1]: 6\n",
      "A[1,2]: 7\n",
      "A[1,3]: 8\n",
      "A[2,0]: 9\n",
      "A[2,1]: 10\n",
      "A[2,2]: 11\n",
      "A[2,3]: 12\n"
     ]
    }
   ],
   "source": [
    "for i in range(height):\n",
    "    for j in range(width):\n",
    "        print(f'A[{i},{j}]: {A[i,j]}')"
   ]
  },
  {
   "cell_type": "markdown",
   "id": "4cc5d946",
   "metadata": {},
   "source": [
    "### 전치 행렬(Transposed Matrix)\n",
    "- 가로가 세로가 되고 세로가 가로가 되는 행렬\n",
    "- (0,0),(1,1),(2,2) : 그래로\n",
    "- (1,0) -> (0,1) : 가로 세로가 바뀜\n",
    "- A.T 의 형태로 표현"
   ]
  },
  {
   "cell_type": "code",
   "execution_count": 76,
   "id": "f3dfefd3",
   "metadata": {},
   "outputs": [
    {
     "data": {
      "text/plain": [
       "array([[1, 2, 3],\n",
       "       [4, 5, 6],\n",
       "       [7, 8, 9]])"
      ]
     },
     "execution_count": 76,
     "metadata": {},
     "output_type": "execute_result"
    }
   ],
   "source": [
    "A = np.arange(1,10).reshape(3,3)\n",
    "A"
   ]
  },
  {
   "cell_type": "code",
   "execution_count": 77,
   "id": "3d33eb74",
   "metadata": {},
   "outputs": [
    {
     "name": "stdout",
     "output_type": "stream",
     "text": [
      "[[1 4 7]\n",
      " [2 5 8]\n",
      " [3 6 9]]\n"
     ]
    }
   ],
   "source": [
    "#전치행렬\n",
    "A = A.T\n",
    "print(A)"
   ]
  },
  {
   "cell_type": "code",
   "execution_count": 78,
   "id": "59f8d860",
   "metadata": {},
   "outputs": [
    {
     "name": "stdout",
     "output_type": "stream",
     "text": [
      "1\n",
      "2\n",
      "3\n"
     ]
    }
   ],
   "source": [
    "B = np.array([1,2,3])\n",
    "for b in B:\n",
    "    print(b)"
   ]
  },
  {
   "cell_type": "markdown",
   "id": "741657f6",
   "metadata": {},
   "source": [
    "#### 2차원 행렬은 for문을 사용하면 한 행의 값을 가져옴"
   ]
  },
  {
   "cell_type": "code",
   "execution_count": 83,
   "id": "009fd743",
   "metadata": {},
   "outputs": [
    {
     "name": "stdout",
     "output_type": "stream",
     "text": [
      "[1 2 3]\n",
      "[4 5 6]\n",
      "[7 8 9]\n"
     ]
    }
   ],
   "source": [
    "A = np.arange(1,10).reshape(3,3)\n",
    "for row_a in A:\n",
    "    print(row_a)"
   ]
  },
  {
   "cell_type": "markdown",
   "id": "0aa36038",
   "metadata": {},
   "source": [
    "#### 한개의 열을 가져오려면 행렬을 전치한 후 행을 가져오면 됨"
   ]
  },
  {
   "cell_type": "code",
   "execution_count": 84,
   "id": "8d3ec672",
   "metadata": {},
   "outputs": [
    {
     "name": "stdout",
     "output_type": "stream",
     "text": [
      "[1 4 7]\n",
      "[2 5 8]\n",
      "[3 6 9]\n"
     ]
    }
   ],
   "source": [
    "A = np.arange(1,10).reshape(3,3)\n",
    "for col_a in A.T:\n",
    "    print(col_a)"
   ]
  },
  {
   "cell_type": "markdown",
   "id": "40451427",
   "metadata": {},
   "source": [
    "#### 행렬의 개별 원소를 출력\n",
    "- flat 사용"
   ]
  },
  {
   "cell_type": "code",
   "execution_count": 90,
   "id": "a8227b4e",
   "metadata": {},
   "outputs": [
    {
     "name": "stdout",
     "output_type": "stream",
     "text": [
      "1\n",
      "2\n",
      "3\n",
      "4\n",
      "5\n",
      "6\n",
      "7\n",
      "8\n",
      "9\n"
     ]
    }
   ],
   "source": [
    "A = np.arange(1,10).reshape(3,3)\n",
    "for a in A.flat:\n",
    "    print(a)"
   ]
  },
  {
   "cell_type": "markdown",
   "id": "106d2b34",
   "metadata": {},
   "source": [
    "## 2.4 얕은 복사 깊은 복사"
   ]
  },
  {
   "cell_type": "markdown",
   "id": "38217599",
   "metadata": {},
   "source": [
    "### 대입\n",
    "- 배열을 생성하여 변수에 대입한 다음 이변수를 다시 다른 변수에 대입하면, 하나의 넘파이배열을 가리키는 2개의 변수가 생김"
   ]
  },
  {
   "cell_type": "code",
   "execution_count": 92,
   "id": "f702f709",
   "metadata": {},
   "outputs": [],
   "source": [
    "a = np.arange(12) # [ 0,  1,  2,  3,  4,  5,  6,  7,  8,  9, 10, 11]\n",
    "b = a # 배열을 생성하여 변수에 대입한 다음 이변수를 다시 다른 변수에 대입"
   ]
  },
  {
   "cell_type": "code",
   "execution_count": 93,
   "id": "f6c2a983",
   "metadata": {},
   "outputs": [
    {
     "name": "stdout",
     "output_type": "stream",
     "text": [
      "[ True  True  True  True  True  True  True  True  True  True  True  True]\n"
     ]
    }
   ],
   "source": [
    "print(a==b)"
   ]
  },
  {
   "cell_type": "code",
   "execution_count": 94,
   "id": "d6b83e00",
   "metadata": {},
   "outputs": [
    {
     "name": "stdout",
     "output_type": "stream",
     "text": [
      "True\n"
     ]
    }
   ],
   "source": [
    "print(a is b)"
   ]
  },
  {
   "cell_type": "markdown",
   "id": "3eefb066",
   "metadata": {},
   "source": [
    "#### 원소를 수정하면 서로 영향을 줌"
   ]
  },
  {
   "cell_type": "code",
   "execution_count": 95,
   "id": "c3d6ab81",
   "metadata": {},
   "outputs": [
    {
     "name": "stdout",
     "output_type": "stream",
     "text": [
      "[100   1   2   3   4   5   6   7   8   9  10  11]\n",
      "[100   1   2   3   4   5   6   7   8   9  10  11]\n"
     ]
    }
   ],
   "source": [
    "a[0] = 100\n",
    "print(a)\n",
    "print(b)"
   ]
  },
  {
   "cell_type": "markdown",
   "id": "36d91d79",
   "metadata": {},
   "source": [
    "#### shape변경해도 둘다 shape가 변경됨"
   ]
  },
  {
   "cell_type": "code",
   "execution_count": 96,
   "id": "ae3d2813",
   "metadata": {},
   "outputs": [],
   "source": [
    "b.shape = 3,4"
   ]
  },
  {
   "cell_type": "code",
   "execution_count": 97,
   "id": "02505314",
   "metadata": {},
   "outputs": [
    {
     "name": "stdout",
     "output_type": "stream",
     "text": [
      "(3, 4)\n"
     ]
    }
   ],
   "source": [
    "print(a.shape)"
   ]
  },
  {
   "cell_type": "markdown",
   "id": "1b885ed6",
   "metadata": {},
   "source": [
    "### 얕은 복사\n",
    "- 얕은 복사를 하면 기본 배열의 원소를 공유하는 새로운 배열을 생성\n",
    "- 새로 생성된 배열을 뷰라고 부름\n",
    "- 원소를 공유하기때문에 한쪽배열을 수정하면 다른 배열의 데이터도 수정됨"
   ]
  },
  {
   "cell_type": "code",
   "execution_count": 98,
   "id": "9ee07c38",
   "metadata": {},
   "outputs": [],
   "source": [
    "a = np.arange(12)\n",
    "b = a.view()"
   ]
  },
  {
   "cell_type": "code",
   "execution_count": 99,
   "id": "36bb04cc",
   "metadata": {},
   "outputs": [
    {
     "name": "stdout",
     "output_type": "stream",
     "text": [
      "[ 0  1  2  3  4  5  6  7  8  9 10 11]\n",
      "[ 0  1  2  3  4  5  6  7  8  9 10 11]\n"
     ]
    }
   ],
   "source": [
    "print(a)\n",
    "print(b)"
   ]
  },
  {
   "cell_type": "code",
   "execution_count": 100,
   "id": "021c3fc1",
   "metadata": {},
   "outputs": [
    {
     "name": "stdout",
     "output_type": "stream",
     "text": [
      "True\n"
     ]
    }
   ],
   "source": [
    "print(b.base is a)"
   ]
  },
  {
   "cell_type": "code",
   "execution_count": 101,
   "id": "e325306c",
   "metadata": {},
   "outputs": [
    {
     "name": "stdout",
     "output_type": "stream",
     "text": [
      "False\n"
     ]
    }
   ],
   "source": [
    "print(a is b)"
   ]
  },
  {
   "cell_type": "code",
   "execution_count": 102,
   "id": "a64f352c",
   "metadata": {},
   "outputs": [
    {
     "name": "stdout",
     "output_type": "stream",
     "text": [
      "[100   1   2   3   4   5   6   7   8   9  10 100]\n",
      "[100   1   2   3   4   5   6   7   8   9  10 100]\n"
     ]
    }
   ],
   "source": [
    "a[0] = 100\n",
    "b[11]=100\n",
    "print(a)\n",
    "print(b)"
   ]
  },
  {
   "cell_type": "code",
   "execution_count": 105,
   "id": "7f69f893",
   "metadata": {},
   "outputs": [
    {
     "data": {
      "text/plain": [
       "array([[100,   1,   2,   3],\n",
       "       [  4,   5,   6,   7],\n",
       "       [  8,   9,  10, 100]])"
      ]
     },
     "execution_count": 105,
     "metadata": {},
     "output_type": "execute_result"
    }
   ],
   "source": [
    "# a의 사이즈를 바꾸어도 b의 사이즈는 변경되지 않는다\n",
    "a.resize(3,4)\n",
    "a"
   ]
  },
  {
   "cell_type": "code",
   "execution_count": 104,
   "id": "68eeef1b",
   "metadata": {},
   "outputs": [
    {
     "data": {
      "text/plain": [
       "array([100,   1,   2,   3,   4,   5,   6,   7,   8,   9,  10, 100])"
      ]
     },
     "execution_count": 104,
     "metadata": {},
     "output_type": "execute_result"
    }
   ],
   "source": [
    "b"
   ]
  },
  {
   "cell_type": "code",
   "execution_count": 107,
   "id": "451f3903",
   "metadata": {},
   "outputs": [
    {
     "name": "stdout",
     "output_type": "stream",
     "text": [
      "[[100   1 500   3]\n",
      " [  4   5   6   7]\n",
      " [  8   9  10 100]]\n",
      "[100   1 500   3   4   5   6   7   8   9  10 100]\n"
     ]
    }
   ],
   "source": [
    "# 슬라이싱 한 데이터는 영향을 미침\n",
    "a[0][2] = 500\n",
    "print(a)\n",
    "print(b)"
   ]
  },
  {
   "cell_type": "code",
   "execution_count": 108,
   "id": "ccef15d8",
   "metadata": {},
   "outputs": [
    {
     "name": "stdout",
     "output_type": "stream",
     "text": [
      "[[  0   0   0   0]\n",
      " [  4   5   6   7]\n",
      " [  8   9  10 100]]\n",
      "[  0   0   0   0   4   5   6   7   8   9  10 100]\n"
     ]
    }
   ],
   "source": [
    "c = a[0]\n",
    "c[:]=0\n",
    "print(a)\n",
    "print(b)"
   ]
  },
  {
   "cell_type": "markdown",
   "id": "c44b0a9a",
   "metadata": {},
   "source": [
    "### 깊은 복사\n",
    "- 기존의 배열의 데이터를 공유하지 않는 복사본이 필요한 경우 사용\n",
    "- copy메서드를 사용\n",
    "- 기존 배열의 데이터를 공유하지 않고 새로운 메모리 공간에 데이터를 복사하여 사용"
   ]
  },
  {
   "cell_type": "code",
   "execution_count": 109,
   "id": "095554b8",
   "metadata": {},
   "outputs": [],
   "source": [
    "a = np.arange(12)\n",
    "b = a.copy()"
   ]
  },
  {
   "cell_type": "code",
   "execution_count": 110,
   "id": "8ce6d0b2",
   "metadata": {},
   "outputs": [
    {
     "name": "stdout",
     "output_type": "stream",
     "text": [
      "[ True  True  True  True  True  True  True  True  True  True  True  True]\n"
     ]
    }
   ],
   "source": [
    "print(a==b)"
   ]
  },
  {
   "cell_type": "code",
   "execution_count": 111,
   "id": "30de0699",
   "metadata": {},
   "outputs": [
    {
     "name": "stdout",
     "output_type": "stream",
     "text": [
      "False\n"
     ]
    }
   ],
   "source": [
    "print(a is b)"
   ]
  },
  {
   "cell_type": "code",
   "execution_count": 112,
   "id": "c569ddd2",
   "metadata": {},
   "outputs": [
    {
     "name": "stdout",
     "output_type": "stream",
     "text": [
      "[100   1   2   3   4   5   6   7   8   9  10  11]\n",
      "[ 0  1  2  3  4  5  6  7  8  9 10 11]\n"
     ]
    }
   ],
   "source": [
    "a[0] = 100\n",
    "print(a)\n",
    "print(b)"
   ]
  },
  {
   "cell_type": "markdown",
   "id": "4fdb306e",
   "metadata": {},
   "source": [
    "## 크기가 같은 행렬의 연산"
   ]
  },
  {
   "cell_type": "code",
   "execution_count": 113,
   "id": "08dc06cf",
   "metadata": {},
   "outputs": [],
   "source": [
    "A = np.array([[2,4],[6,8]])\n",
    "B = np.array([[2,2],[2,2]])"
   ]
  },
  {
   "cell_type": "code",
   "execution_count": 114,
   "id": "d17d9a3e",
   "metadata": {},
   "outputs": [
    {
     "data": {
      "text/plain": [
       "array([[2, 4],\n",
       "       [6, 8]])"
      ]
     },
     "execution_count": 114,
     "metadata": {},
     "output_type": "execute_result"
    }
   ],
   "source": [
    "A"
   ]
  },
  {
   "cell_type": "code",
   "execution_count": 115,
   "id": "2848fb59",
   "metadata": {},
   "outputs": [
    {
     "data": {
      "text/plain": [
       "array([[2, 2],\n",
       "       [2, 2]])"
      ]
     },
     "execution_count": 115,
     "metadata": {},
     "output_type": "execute_result"
    }
   ],
   "source": [
    "B"
   ]
  },
  {
   "cell_type": "code",
   "execution_count": 116,
   "id": "922f05be",
   "metadata": {},
   "outputs": [
    {
     "data": {
      "text/plain": [
       "array([[ 4,  6],\n",
       "       [ 8, 10]])"
      ]
     },
     "execution_count": 116,
     "metadata": {},
     "output_type": "execute_result"
    }
   ],
   "source": [
    "# 사칙연산  : 덧셈\n",
    "A+B"
   ]
  },
  {
   "cell_type": "code",
   "execution_count": 117,
   "id": "c601437b",
   "metadata": {},
   "outputs": [
    {
     "data": {
      "text/plain": [
       "array([[0, 2],\n",
       "       [4, 6]])"
      ]
     },
     "execution_count": 117,
     "metadata": {},
     "output_type": "execute_result"
    }
   ],
   "source": [
    "# 사칙연산  : 뺄셈\n",
    "A-B"
   ]
  },
  {
   "cell_type": "code",
   "execution_count": 118,
   "id": "2945f8c5",
   "metadata": {},
   "outputs": [
    {
     "data": {
      "text/plain": [
       "array([[ 4,  8],\n",
       "       [12, 16]])"
      ]
     },
     "execution_count": 118,
     "metadata": {},
     "output_type": "execute_result"
    }
   ],
   "source": [
    "# 사칙연산  : 곱셈\n",
    "A*B"
   ]
  },
  {
   "cell_type": "code",
   "execution_count": 119,
   "id": "12cbaea4",
   "metadata": {},
   "outputs": [
    {
     "data": {
      "text/plain": [
       "array([[1., 2.],\n",
       "       [3., 4.]])"
      ]
     },
     "execution_count": 119,
     "metadata": {},
     "output_type": "execute_result"
    }
   ],
   "source": [
    "# 사칙연산  : 나눗셈\n",
    "A/B"
   ]
  },
  {
   "cell_type": "markdown",
   "id": "7d18e125",
   "metadata": {},
   "source": [
    "### 행렬처럼 연산\n",
    "- np.dot(A,B)\n",
    "- A.dot(B)\n",
    "- python 3.5이상 : A@B"
   ]
  },
  {
   "cell_type": "code",
   "execution_count": 120,
   "id": "1b27e7d3",
   "metadata": {},
   "outputs": [
    {
     "name": "stdout",
     "output_type": "stream",
     "text": [
      "[[12 12]\n",
      " [28 28]]\n"
     ]
    }
   ],
   "source": [
    "C = np.dot(A,B)\n",
    "print(C)"
   ]
  },
  {
   "cell_type": "code",
   "execution_count": 121,
   "id": "efffe49a",
   "metadata": {},
   "outputs": [
    {
     "name": "stdout",
     "output_type": "stream",
     "text": [
      "[[12 12]\n",
      " [28 28]]\n",
      "[[12 12]\n",
      " [28 28]]\n"
     ]
    }
   ],
   "source": [
    "print(A.dot(B))\n",
    "print(A@B)"
   ]
  },
  {
   "cell_type": "markdown",
   "id": "bfdff082",
   "metadata": {},
   "source": [
    "## 크기가 다른 행렬의 연산\n",
    "- 넘파이에서 계산의 효율성을 위해서 브로드캐스팅을 이용한 연산 지원\n",
    "- 스칼라 또는 적은 차원 개수를 가진 배열을 많은 차원개수를 가진 배열의 크기와 동일하게 만든 후 연산을 진행\n",
    "- 브로드 캐스팅이 가능해야 연산이 가능"
   ]
  },
  {
   "cell_type": "code",
   "execution_count": 123,
   "id": "2cc7a98f",
   "metadata": {},
   "outputs": [
    {
     "name": "stdout",
     "output_type": "stream",
     "text": [
      "[[ 10  20  30  40]\n",
      " [ 50  60  70  80]\n",
      " [ 90 100 110 120]]\n"
     ]
    }
   ],
   "source": [
    "A = np.arange(10,130,10).reshape(3,4)\n",
    "print(A)"
   ]
  },
  {
   "cell_type": "code",
   "execution_count": 124,
   "id": "2adf99d5",
   "metadata": {},
   "outputs": [
    {
     "name": "stdout",
     "output_type": "stream",
     "text": [
      "[1 2 3 4]\n"
     ]
    }
   ],
   "source": [
    "B = np.arange(1,5)\n",
    "print(B)"
   ]
  },
  {
   "cell_type": "code",
   "execution_count": 125,
   "id": "db049100",
   "metadata": {},
   "outputs": [
    {
     "name": "stdout",
     "output_type": "stream",
     "text": [
      "[[ 11  22  33  44]\n",
      " [ 51  62  73  84]\n",
      " [ 91 102 113 124]]\n"
     ]
    }
   ],
   "source": [
    "print(A+B)"
   ]
  },
  {
   "cell_type": "code",
   "execution_count": 127,
   "id": "713ed7a9",
   "metadata": {},
   "outputs": [
    {
     "data": {
      "text/plain": [
       "array([[ 10,  20,  30,  40],\n",
       "       [ 50,  60,  70,  80],\n",
       "       [ 90, 100, 110, 120]])"
      ]
     },
     "execution_count": 127,
     "metadata": {},
     "output_type": "execute_result"
    }
   ],
   "source": [
    "A = np.arange(10,130,10).reshape(3,4)\n",
    "B = np.arange(1,4)"
   ]
  },
  {
   "cell_type": "code",
   "execution_count": 129,
   "id": "a9d041ce",
   "metadata": {},
   "outputs": [
    {
     "ename": "ValueError",
     "evalue": "operands could not be broadcast together with shapes (3,4) (3,) ",
     "output_type": "error",
     "traceback": [
      "\u001b[1;31m---------------------------------------------------------------------------\u001b[0m",
      "\u001b[1;31mValueError\u001b[0m                                Traceback (most recent call last)",
      "\u001b[1;32m<ipython-input-129-fb8da3b05c6e>\u001b[0m in \u001b[0;36m<module>\u001b[1;34m\u001b[0m\n\u001b[1;32m----> 1\u001b[1;33m \u001b[0mprint\u001b[0m\u001b[1;33m(\u001b[0m\u001b[0mA\u001b[0m\u001b[1;33m+\u001b[0m\u001b[0mB\u001b[0m\u001b[1;33m)\u001b[0m \u001b[1;31m#브로드캐스팅 안됨, 에러발생\u001b[0m\u001b[1;33m\u001b[0m\u001b[1;33m\u001b[0m\u001b[0m\n\u001b[0m",
      "\u001b[1;31mValueError\u001b[0m: operands could not be broadcast together with shapes (3,4) (3,) "
     ]
    }
   ],
   "source": [
    "print(A+B) #브로드캐스팅 안됨, 에러발생"
   ]
  },
  {
   "cell_type": "code",
   "execution_count": null,
   "id": "eea77d97",
   "metadata": {},
   "outputs": [],
   "source": []
  }
 ],
 "metadata": {
  "kernelspec": {
   "display_name": "Python 3",
   "language": "python",
   "name": "python3"
  },
  "language_info": {
   "codemirror_mode": {
    "name": "ipython",
    "version": 3
   },
   "file_extension": ".py",
   "mimetype": "text/x-python",
   "name": "python",
   "nbconvert_exporter": "python",
   "pygments_lexer": "ipython3",
   "version": "3.8.8"
  }
 },
 "nbformat": 4,
 "nbformat_minor": 5
}
